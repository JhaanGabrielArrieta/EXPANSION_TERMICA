# %% [markdown]
# INTRODUCCION
# 
# En procesos termodinámicos existe una relación el cuál da evidencia las propiedades macroscópicas de los materiales. Esta indica lo siguiente: 
# 
# “A medida que la temperatura aumenta, su volumen también aumenta”
# 
# Este fenómeno es mayormente conocido como EXPANSION TERMICA. De manera general, al tener aumento en la velocidad promedio de las partículas de un sistema (temperatura) debido a una fuente de energía en forma de calor entonces se afirma, que, bajo sistemas estacionarios, la energía será transferida de un caso inicial a uno final y por conservación de la energía el sistema final presenta cambios en su estructura física. Lo anterior surge a causa de la existencia de la primera ley de la termodinámica. En la imagen 1 se observan 3 tipos de transferencia de calor: 
# 
# 	Radiación 
# 	Convección 
# 	Conducción 
# 
#  
# 	       Imagen 1. Información general de ejemplo sobre la expansión termica
# 
# Al transferir el calor dado al agua por convección hace que esta comience a hervir. Por tanto, un proceso donde se transfiere calor da como resultado el cambio físico de un material. En el caso del agua comienza su cambio de estado y este cambio conlleva un aumento en el volumen (estado gaseoso). El caso de un solido no queda excepto de este aumento en sus propiedades físicas. Para nuestra experiencia se cuentan con 3 metales distintos en forma cilíndricas donde se hacen los estudios de expansión térmica.
# 
# En modelo matemático el cual rige el fenómeno de EXPANSION TERMICA LINEAL es:
# 
#                                                                       ∆L= αL_0 ∆T                                                               (1)
# 
# 	∆L:CAMBIO EN LA LONGITUD DEL SOLIDO (en metros,m).
# 	α:COEFICIENTE DE EXPANSION TERMICA LINEAL (en °C^(-1)  o K^(-1) ).
# 	L_0:LONGITUD INICIAL DEL SOLIDO (en metros,m). 
# 	∆T:CAMBIO DE TEMPERATURA (en grados Celsius,°C,o Kelvin,K)
# 
# Con esto dicho el fenómeno de expansión térmica en solidos es el proceso de aumento de las dimensiones físicas (longitud) cuando su temperatura se incrementa. Esto ocurre debido al aumento de la energía cinética de los átomos o moléculas que componen el sólido, lo que genera una mayor vibración y, en consecuencia, un aumento en la separación promedio de ellos. Se hace la salvedad que todas las dimensiones incluyendo el radio asociado al agujero del cilindro incrementan en base a la ecuación 1. Como consideración final la cavidad en un trozo de material se expande de la misma manera que si la cavidad estuviera llena de material. 

